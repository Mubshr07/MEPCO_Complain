{
 "cells": [
  {
   "cell_type": "code",
   "execution_count": 10,
   "id": "b6e03387",
   "metadata": {},
   "outputs": [],
   "source": [
    "import requests\n",
    "from bs4 import BeautifulSoup\n",
    "import datetime\n",
    "import time\n",
    "import os\n",
    "from selenium import  webdriver\n",
    "from selenium.webdriver.common.by import By\n",
    "from selenium.webdriver.support.ui import WebDriverWait, Select\n",
    "from selenium.webdriver.support import expected_conditions\n",
    "from selenium.common.exceptions import TimeoutException\n",
    "\n",
    "import pandas, numpy\n",
    "\n",
    " "
   ]
  },
  {
   "cell_type": "code",
   "execution_count": 20,
   "id": "a3453ea5",
   "metadata": {},
   "outputs": [
    {
     "name": "stdout",
     "output_type": "stream",
     "text": [
      " url is: http://ccms.pitc.com.pk/complaint\n"
     ]
    }
   ],
   "source": [
    "\n",
    "mainWebSiteURL = \"http://ccms.pitc.com.pk/complaint\"\n",
    "billReferenceID = \"19156211231601\"\n",
    "contactMobileNumber = \"03136727270\"\n",
    "nearByPlaces = \"KhurSheed Masjid\"\n",
    "complainMessage = \"We are facing low-Voltage from the 09 June 2023. Please check the supply, Connection, Phase-line voltages and provide the correct voltage. Thank you\"\n",
    "\n",
    "howManyComplainWantToRegister = 2\n",
    "\n",
    "print(\" url is: {}\".format(mainWebSiteURL))\n",
    "\n"
   ]
  },
  {
   "cell_type": "code",
   "execution_count": 12,
   "id": "15f1c388",
   "metadata": {},
   "outputs": [],
   "source": [
    "driver = webdriver.Chrome()"
   ]
  },
  {
   "cell_type": "code",
   "execution_count": 21,
   "id": "13a3e761",
   "metadata": {},
   "outputs": [
    {
     "name": "stdout",
     "output_type": "stream",
     "text": [
      "Complain Registered:1\n",
      "Complain Registered:2\n"
     ]
    }
   ],
   "source": [
    "i = 0\n",
    "while(i<howManyComplainWantToRegister):\n",
    "    i += 1\n",
    "    try:\n",
    "\n",
    "        driver.get(mainWebSiteURL)\n",
    "        #print(driver.title)\n",
    "\n",
    "        time.sleep(5)\n",
    "        referenceIDtag = (driver.find_element(By.ID, \"identity\"))\n",
    "        referenceIDtag.send_keys(billReferenceID)\n",
    "\n",
    "        # Find form Search element\n",
    "        searchButton = driver.find_element(By.ID, 'search')\n",
    "        # Click on search button\n",
    "        searchButton.click()\n",
    "        # Wait for 20s to observe console log\n",
    "        time.sleep(5)\n",
    "\n",
    "        #referenceNameSelection = Select(driver.find_element(By.NAME, \"reference\"))\n",
    "        #referenceNameSelection.select_by_value(billReferenceID)\n",
    "        #time.sleep(1)\n",
    "\n",
    "        referenceIDtag = (driver.find_element(By.ID, \"mobile\"))\n",
    "        referenceIDtag.clear()\n",
    "        referenceIDtag.send_keys(contactMobileNumber)\n",
    "        \n",
    "        nearByPlacesTag = (driver.find_element(By.ID, \"nearby\"))\n",
    "        nearByPlacesTag.clear()\n",
    "        nearByPlacesTag.send_keys(nearByPlaces)\n",
    "        \n",
    "        complainCategory = Select(driver.find_element(By.NAME, \"nature\")) \n",
    "        complainCategory.select_by_value(\"1\")\n",
    "        time.sleep(3)\n",
    "        \n",
    "        complainType = Select(driver.find_element(By.NAME, \"type\")) \n",
    "        complainType.select_by_value(\"7\")        \n",
    "        \n",
    "        messageBox = (driver.find_element(By.ID, \"description\"))\n",
    "        messageBox.clear()\n",
    "        messageBox.send_keys(complainMessage)\n",
    "        time.sleep(5)\n",
    "        \n",
    "        myform = driver.find_element(By.ID, 'form')\n",
    "        myform.submit()\n",
    "        print(\"Complain Registered:{}\".format(i))\n",
    "        time.sleep(8)\n",
    "\n",
    "    except:\n",
    "        print(\"Error in main try statement\")\n",
    "    \n",
    "\n",
    "\n"
   ]
  },
  {
   "cell_type": "code",
   "execution_count": 22,
   "id": "39855b60",
   "metadata": {},
   "outputs": [],
   "source": [
    "driver.quit()"
   ]
  },
  {
   "cell_type": "code",
   "execution_count": null,
   "id": "088bc44e",
   "metadata": {},
   "outputs": [],
   "source": []
  },
  {
   "cell_type": "code",
   "execution_count": null,
   "id": "4e3b0c99",
   "metadata": {},
   "outputs": [],
   "source": []
  }
 ],
 "metadata": {
  "kernelspec": {
   "display_name": "Python 3 (ipykernel)",
   "language": "python",
   "name": "python3"
  },
  "language_info": {
   "codemirror_mode": {
    "name": "ipython",
    "version": 3
   },
   "file_extension": ".py",
   "mimetype": "text/x-python",
   "name": "python",
   "nbconvert_exporter": "python",
   "pygments_lexer": "ipython3",
   "version": "3.10.4"
  }
 },
 "nbformat": 4,
 "nbformat_minor": 5
}
